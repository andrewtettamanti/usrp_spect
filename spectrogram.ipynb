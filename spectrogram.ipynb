{
 "cells": [
  {
   "cell_type": "code",
   "execution_count": 5,
   "metadata": {},
   "outputs": [
    {
     "data": {
      "image/png": "[encoded data removed]",
      "text/plain": [
       "<Figure size 432x288 with 1 Axes>"
      ]
     },
     "metadata": {
      "needs_background": "light"
     },
     "output_type": "display_data"
    }
   ],
   "source": [
    "import numpy as n\n",
    "import uhd\n",
    "import scipy.signal as ss\n",
    "import time\n",
    "import matplotlib.pyplot as plt\n",
    "import h5py\n",
    "\n",
    "def acquire_spectrum(freq=770e6,\n",
    "                     sample_rate=25e6,\n",
    "                     n_fft=1024,\n",
    "                     n_avg=64,\n",
    "                     n_t=2,\n",
    "                     subdev=\"A:A\",\n",
    "                     ofname=\"spectrogram1.h5\"):\n",
    "\n",
    "    usrp = uhd.usrp.MultiUSRP(\"recv_buff_size=500000000\")\n",
    "    subdev_spec=uhd.usrp.SubdevSpec(subdev)\n",
    "    usrp.set_rx_subdev_spec(subdev_spec)\n",
    "\n",
    "    plt.ion()\n",
    "    fig = plt.figure()\n",
    "    ax=fig.add_subplot(111)\n",
    "    \n",
    "    for i in range(100):\n",
    "        w=ss.blackmanharris(n_fft)\n",
    "        freqv=n.fft.fftshift(n.fft.fftfreq(n_fft, d=1.0/25e6))+freq\n",
    "        S=n.zeros([n_t, n_fft])\n",
    "        tvec=[]\n",
    "        for ti in range(n_t):\n",
    "            #print(\"%d/%d\" % (ti, n_t))\n",
    "            samps = usrp.recv_num_samps(n_fft*n_avg, freq, 25000000, [0], 0)\n",
    "            tvec.append(time.time())\n",
    "            if len(samps[0]) != n_fft*n_avg:\n",
    "                print(\"error\")\n",
    "            else:\n",
    "                z=samps[0]\n",
    "                z=z-n.mean(z)\n",
    "                for ai in range(n_avg):\n",
    "                    S[ti, :]+=n.abs(n.fft.fftshift(\n",
    "                    n.fft.fft(z[(ai*n_fft):(ai*n_fft + n_fft)]*w)))**2.0\n",
    "\n",
    "        tvec=n.array(tvec)\n",
    "        \n",
    "        with h5py.File(\"spec-%d.h5\" % (time.time()), \"w\") as ho:\n",
    "            ho[\"S\"]=S\n",
    "            ho[\"tvec\"]=tvec\n",
    "            ho[\"fvec\"]=freqv\n",
    "\n",
    "        \n",
    "    ax.clear()\n",
    "    ax.pcolormesh(freqv/1e6, tvec, 10.0*n.log10(S))\n",
    "    ax.set_xlabel(\"Frequency (MHz)\")\n",
    "    ax.set_ylabel(\"Time (Sec)\")\n",
    "    fig.canvas.draw()\n",
    "    fig.canvas.flush_events()\n",
    "\n",
    "\n",
    "if __name__ == \"__main__\":\n",
    "    acquire_spectrum()"
   ]
  },
  {
   "cell_type": "code",
   "execution_count": null,
   "metadata": {},
   "outputs": [],
   "source": [
    "import h5py\n",
    "import numpy as np\n",
    "import matplotlib.pyplot as plt\n",
    "\n",
    "class data:\n",
    "    \n",
    "    spectrum=np.zeros(0)\n",
    "    frequency=np.zeros(0)\n",
    "    time=np.zeros(0)\n",
    "\n",
    "    def plot_spectrum(name='spectrogram1.h5'):\n",
    "\n",
    "\n",
    "        with h5py.File(name,'r') as h:\n",
    "            ls = list(h.keys())\n",
    "            print('List of Datasets in this file are: \\n', ls)\n",
    "            freqv = h.get('fvec')\n",
    "            S = h.get('S')\n",
    "            tvec= h.get[\"tvec\"]\n",
    "            freqv = np.array(freqv)\n",
    "            S = np.array(S)\n",
    "            tvec= np.array(tvec)\n",
    "            np.append(spectrum,S)\n",
    "            np.append(frequency,freqv)\n",
    "            np.append(time,tvec)\n",
    "\n",
    "    def plot(spectrum,frequency):\n",
    "        \n",
    "            plt.pcolormesh(freqv/1e6, tvec, 10.0*n.log10(S))\n",
    "            plt.set_xlabel(\"Frequency (MHz)\")\n",
    "            plt.set_ylabel(\"Time (unix)\")\n",
    "            fig.canvas.draw()\n",
    "            fig.canvas.flush_events()"
   ]
  }
 ],
 "metadata": {
  "kernelspec": {
   "display_name": "Python 2",
   "language": "python",
   "name": "python2"
  },
  "language_info": {
   "codemirror_mode": {
    "name": "ipython",
    "version": 2
   },
   "file_extension": ".py",
   "mimetype": "text/x-python",
   "name": "python",
   "nbconvert_exporter": "python",
   "pygments_lexer": "ipython2",
   "version": "2.7.18"
  }
 },
 "nbformat": 4,
 "nbformat_minor": 2
}
